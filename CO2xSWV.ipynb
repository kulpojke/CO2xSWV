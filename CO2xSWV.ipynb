{
 "cells": [
  {
   "cell_type": "code",
   "execution_count": 129,
   "metadata": {},
   "outputs": [
    {
     "data": {
      "text/plain": [
       "16"
      ]
     },
     "execution_count": 129,
     "metadata": {},
     "output_type": "execute_result"
    }
   ],
   "source": [
    "from CO2xSWV import fetch_data_from_NEON_API\n",
    "import pandas as pd\n",
    "import glob\n",
    "import seaborn as sns\n",
    "import matplotlib.pyplot as plt\n",
    "from mpl_toolkits.mplot3d import axes3d\n",
    "import numpy as np\n",
    "import multiprocessing\n",
    "from dataclasses import dataclass\n",
    "import xarray as xr\n",
    "from dask import delayed\n",
    "import dask\n",
    "\n",
    "multiprocessing.cpu_count()"
   ]
  },
  {
   "cell_type": "code",
   "execution_count": 48,
   "metadata": {},
   "outputs": [
    {
     "name": "stdout",
     "output_type": "stream",
     "text": [
      "[########################################] | 100% Completed | 33min 10.6s\n"
     ]
    }
   ],
   "source": [
    "sitecodes = ['BART', 'ABBY', 'TEAK']\n",
    "productcodes = ['DP1.00095.001', 'DP1.00094.001','DP1.00041.001']\n",
    "daterange = ['2015-01', '2020-11']\n",
    "fetch_data_from_NEON_API(sitecodes, productcodes, daterange=daterange)\n",
    "# optimize dask for cyverse"
   ]
  },
  {
   "cell_type": "code",
   "execution_count": 219,
   "metadata": {},
   "outputs": [],
   "source": [
    "# glob files for the site\n",
    "data_path='/home/jovyan/NEON/CO2xSWV_data'\n",
    "site = 'TEAK'\n",
    "soil_CO2 = glob.glob(f'{data_path}/*{site}*SCO2C_1_minute*.csv')\n",
    "soil_H2O = glob.glob(f'{data_path}/*{site}*SWS_1_minute*.csv')\n",
    "soil_T   = glob.glob(f'{data_path}/*{site}*ST_1_minute*.csv')\n",
    "# make lists with date, and files for that date\n",
    "sc = set([f.split('.')[-4] for f in soil_CO2])\n",
    "sw = set([f.split('.')[-4] for f in soil_H2O])\n",
    "st = set([f.split('.')[-4] for f in soil_T])\n",
    "# find dates present in all data products\n",
    "dates = list(sc & sw & st)\n",
    "dates.sort()\n",
    "# make seperate lists of each product for the dates where all are present\n",
    "c = []\n",
    "w = []\n",
    "t = []\n",
    "for date in dates:\n",
    "    c = c + [f for f in soil_CO2 if date in f]\n",
    "    w = w + [f for f in soil_H2O if date in f]\n",
    "    t = t + [f for f in soil_T if date in f]\n",
    "# Now we have all of the files for the site in seperate lists by product"
   ]
  },
  {
   "cell_type": "code",
   "execution_count": 220,
   "metadata": {},
   "outputs": [],
   "source": [
    "# find the HOR-VER combinations present for all dates at site\n",
    "horvers = []\n",
    "for date in dates:\n",
    "    #find files for the date\n",
    "    cc = [f for f in c if date in f]\n",
    "    ww = [f for f in w if date in f]\n",
    "    tt = [f for f in t if date in f]\n",
    "    #find HOR and VER combinations for the date (e.g. '003501')\n",
    "    ccc = [''.join(f.split('.')[6:8]) for f in cc]\n",
    "    www = [''.join(f.split('.')[6:8]) for f in ww]\n",
    "    ttt = [''.join(f.split('.')[6:8]) for f in tt]\n",
    "    horver = list(set(ccc) & set(www) & set(ttt))\n",
    "    horvers.append(horver)\n",
    "    \n",
    "horver = set(horvers[0])   \n",
    "for hv in horvers[1:]:\n",
    "    horver = horver & set(hv)\n",
    "horver = list(horver)\n",
    "\n",
    "hor = list(set([hv[:3] for hv in horver]))\n",
    "hor.sort()\n",
    "hor_ver = [[hv[:3], hv[3:]] for hv in horver]\n",
    "horver = {key : [] for key in hor}\n",
    "for key, val in hor_ver:\n",
    "    horver[key].append(val)\n",
    "#for val in horver.values():\n",
    " #   val.sort()\n",
    "# horver is a dict all HOR-VER combinations available at eacg site\n",
    "# its like {Hor : [z1, z2,...]}"
   ]
  },
  {
   "cell_type": "code",
   "execution_count": 221,
   "metadata": {},
   "outputs": [
    {
     "data": {
      "text/plain": [
       "{'001': ['502', '501', '503'],\n",
       " '002': ['503', '502', '501'],\n",
       " '003': ['502', '501', '503'],\n",
       " '004': ['501', '502', '503'],\n",
       " '005': ['502', '501']}"
      ]
     },
     "execution_count": 221,
     "metadata": {},
     "output_type": "execute_result"
    }
   ],
   "source": [
    "horver"
   ]
  },
  {
   "cell_type": "markdown",
   "metadata": {},
   "source": [
    "Cell below not working, returns none.  Loop never runs through to end (would print 'oi')\n",
    "\n",
    "the loop never concats its products eaither.  "
   ]
  },
  {
   "cell_type": "code",
   "execution_count": 228,
   "metadata": {},
   "outputs": [],
   "source": [
    "def make_dfs(hor, ver, dates):\n",
    "    hour = None\n",
    "    hv_glob = hor + '.' + ver + '.' + ('[0-9]' * 3 ) + '.'\n",
    "    for date in dates:\n",
    "        # glob the filenames, only one gets globbed for each\n",
    "        co2 = glob.glob(f'{data_path}/*{site}*{hv_glob}*SCO2C_1_minute.{date}*.csv')[0]\n",
    "        h2o = glob.glob(f'{data_path}/*{site}*{hv_glob}*SWS_1_minute.{date}*.csv')[0]\n",
    "        t   = glob.glob(f'{data_path}/*{site}*{hv_glob}*ST_1_minute.{date}*.csv')[0]\n",
    "        \n",
    "        # make C02 df\n",
    "        co2 = pd.read_csv(co2, parse_dates=True, index_col='startDateTime')\n",
    "        # Fail and pass columns are redundent, we will use the fails\n",
    "        drops = [col for col in list(co2.columns) if 'Pass' in col]\n",
    "        co2.drop(drops, axis='columns', inplace=True)\n",
    "        # drop columns with bad quality flags\n",
    "        x = len(co2)\n",
    "        co2 = co2.loc[co2.finalQF == 0] \n",
    "        if (x - len(co2)) / x > 0.8: continue\n",
    "        # now drop quality metric columns\n",
    "        qm = [col for col in list(co2.columns) if 'QM' in col]\n",
    "        qm = qm + [col for col in list(co2.columns) if 'QF' in col] + ['endDateTime']\n",
    "        co2.drop(qm, axis='columns', inplace=True)\n",
    "        #this following step should not be needed, but just in case\n",
    "        co2.dropna(inplace=True)\n",
    "        \n",
    "        h2o = pd.read_csv(h2o, parse_dates=True, index_col='startDateTime')\n",
    "        # Fail and pass columns are redundent, we will use the fails\n",
    "        drops = [col for col in list(h2o.columns) if 'Pass' in col]\n",
    "        h2o.drop(drops, axis='columns', inplace=True)\n",
    "        # drop columns with bad quality flags\n",
    "        x = len(h2o)\n",
    "        h2o = h2o.loc[(h2o.VSWCFinalQF == 0) & (h2o.VSICFinalQF == 0)]\n",
    "        if (x - len(h2o)) / x > 0.8: continue\n",
    "        # now drop quality metric columns\n",
    "        qm = [col for col in list(h2o.columns) if 'QM' in col]\n",
    "        qm = qm + [col for col in list(h2o.columns) if 'QF' in col] + ['endDateTime']\n",
    "        h2o.drop(qm, axis='columns', inplace=True)\n",
    "        #this following step should not be needed, but just in case\n",
    "        h2o.dropna(inplace=True)\n",
    "        \n",
    "        soil_T = pd.read_csv(t, parse_dates=True, index_col='startDateTime')\n",
    "        # Fail and pass columns are redundent, we will use the fails\n",
    "        drops = [col for col in list(soil_T.columns) if 'Pass' in col]\n",
    "        soil_T.drop(drops, axis='columns', inplace=True)\n",
    "        # drop columns with bad quality flags\n",
    "        x = len(soil_T)\n",
    "        soil_T = soil_T.loc[soil_T.finalQF == 0]\n",
    "        if (x - len(soil_T)) / x > 0.8: continue\n",
    "        # now drop quality metric columns\n",
    "        qm = [col for col in list(soil_T.columns) if 'QM' in col]\n",
    "        qm = qm + [col for col in list(soil_T.columns) if 'QF' in col] + ['endDateTime']\n",
    "        soil_T.drop(qm, axis='columns', inplace=True)\n",
    "        #this following step should not be needed, but just in case\n",
    "        soil_T.dropna(inplace=True)\n",
    "        \n",
    "        co2 = co2.merge(h2o, left_index=True, right_index=True)\n",
    "        co2 = co2.merge(soil_T, left_index=True, right_index=True)\n",
    "        \n",
    "        hourCO2 = co2.soilCO2concentrationMean.resample('1h').mean().dropna()\n",
    "        hourCO2_soilCO2concentrationStdErMean = co2.soilCO2concentrationStdErMean.resample('1h').mean().dropna()\n",
    "        \n",
    "        hourH2O = co2.VSWCMean.resample('1h').mean().dropna()\n",
    "        hourH2O_VSWCStdErMean = co2.VSWCStdErMean.resample('1h').mean().dropna()\n",
    "        \n",
    "        hourSal = co2.VSICMean.resample('1h').mean().dropna()\n",
    "        hourSal_VSICStdErMean = co2.VSICStdErMean.resample('1h').mean().dropna()\n",
    "        hourT = co2.soilTempMean.resample('1h').mean().dropna()\n",
    "        hourT_StdErMean = co2.soilTempStdErMean.resample('1h').mean().dropna()\n",
    "        \n",
    "        data = {'CO2'          : hourCO2,\n",
    "                'CO2_sem'      : hourCO2_soilCO2concentrationStdErMean,\n",
    "                'H2O'          : hourH2O,\n",
    "                'H2O_sem'      : hourH2O_VSWCStdErMean,\n",
    "                'T'            : hourT,\n",
    "                'T_sem'        : hourT_StdErMean,\n",
    "                'Salinity'     : hourSal,\n",
    "                'Salinity_sem' : hourSal_VSICStdErMean}\n",
    "        hour = pd.concat(data, axis=1)\n",
    "\n",
    "    return(hour)"
   ]
  },
  {
   "cell_type": "code",
   "execution_count": 229,
   "metadata": {},
   "outputs": [],
   "source": [
    "# make a hourly df for each hor\n",
    "#@delayed\n",
    "lil_dates = dates[:3]\n",
    "\n",
    "for hor, vers in horver.items():\n",
    "    for ver in vers:\n",
    "        hour = make_dfs(hor, ver, lil_dates)\n",
    "            \n"
   ]
  },
  {
   "cell_type": "code",
   "execution_count": 231,
   "metadata": {},
   "outputs": [],
   "source": [
    "hour"
   ]
  },
  {
   "cell_type": "code",
   "execution_count": null,
   "metadata": {},
   "outputs": [],
   "source": [
    "soilTempStdErMean','soilTempVariance'   'soilCO2concentrationVariance', 'soilCO2concentrationStdErMean'   'VSWCVariance', 'VSWCStdErMean' \n",
    "'VSICVariance',\n",
    " 'VSICStdErMean'"
   ]
  },
  {
   "cell_type": "code",
   "execution_count": 203,
   "metadata": {},
   "outputs": [],
   "source": [
    "#!ls NEON/CO2xSWV_data |grep SWS"
   ]
  },
  {
   "cell_type": "code",
   "execution_count": 204,
   "metadata": {},
   "outputs": [],
   "source": [
    "bones = data_path + '/' + 'NEON.D01.BART.DP1.00094.001.001.501.001.SWS_1_minute.2016-11.expanded.20200619T095925Z.csv'"
   ]
  },
  {
   "cell_type": "code",
   "execution_count": 205,
   "metadata": {},
   "outputs": [],
   "source": [
    "df = pd.read_csv(bones, parse_dates=True, index_col='startDateTime')"
   ]
  },
  {
   "cell_type": "code",
   "execution_count": 206,
   "metadata": {},
   "outputs": [
    {
     "data": {
      "text/plain": [
       "['endDateTime',\n",
       " 'VSWCMean',\n",
       " 'VSWCMinimum',\n",
       " 'VSWCMaximum',\n",
       " 'VSWCVariance',\n",
       " 'VSWCNumPts',\n",
       " 'VSWCExpUncert',\n",
       " 'VSWCStdErMean',\n",
       " 'VSWCRangeFailQM',\n",
       " 'VSWCRangePassQM',\n",
       " 'VSWCRangeNAQM',\n",
       " 'VSWCPersistenceFailQM',\n",
       " 'VSWCPersistencePassQM',\n",
       " 'VSWCPersistenceNAQM',\n",
       " 'VSWCStepFailQM',\n",
       " 'VSWCStepPassQM',\n",
       " 'VSWCStepNAQM',\n",
       " 'VSWCNullFailQM',\n",
       " 'VSWCNullPassQM',\n",
       " 'VSWCNullNAQM',\n",
       " 'VSWCGapFailQM',\n",
       " 'VSWCGapPassQM',\n",
       " 'VSWCGapNAQM',\n",
       " 'VSWCSpikeFailQM',\n",
       " 'VSWCSpikePassQM',\n",
       " 'VSWCSpikeNAQM',\n",
       " 'VSWCValidCalFailQM',\n",
       " 'VSWCValidCalPassQM',\n",
       " 'VSWCValidCalNAQM',\n",
       " 'VSWCAlphaQM',\n",
       " 'VSWCBetaQM',\n",
       " 'VSWCFinalQF',\n",
       " 'VSWCFinalQFSciRvw',\n",
       " 'VSICMean',\n",
       " 'VSICMinimum',\n",
       " 'VSICMaximum',\n",
       " 'VSICVariance',\n",
       " 'VSICNumPts',\n",
       " 'VSICExpUncert',\n",
       " 'VSICStdErMean',\n",
       " 'VSICRangeFailQM',\n",
       " 'VSICRangePassQM',\n",
       " 'VSICRangeNAQM',\n",
       " 'VSICPersistenceFailQM',\n",
       " 'VSICPersistencePassQM',\n",
       " 'VSICPersistenceNAQM',\n",
       " 'VSICStepFailQM',\n",
       " 'VSICStepPassQM',\n",
       " 'VSICStepNAQM',\n",
       " 'VSICNullFailQM',\n",
       " 'VSICNullPassQM',\n",
       " 'VSICNullNAQM',\n",
       " 'VSICGapFailQM',\n",
       " 'VSICGapPassQM',\n",
       " 'VSICGapNAQM',\n",
       " 'VSICSpikeFailQM',\n",
       " 'VSICSpikePassQM',\n",
       " 'VSICSpikeNAQM',\n",
       " 'VSICValidCalFailQM',\n",
       " 'VSICValidCalPassQM',\n",
       " 'VSICValidCalNAQM',\n",
       " 'VSICAlphaQM',\n",
       " 'VSICBetaQM',\n",
       " 'VSICFinalQF',\n",
       " 'VSICFinalQFSciRvw',\n",
       " 'tempFailQM',\n",
       " 'tempPassQM',\n",
       " 'tempNAQM',\n",
       " 'calDefaultQM',\n",
       " 'calNEONQM',\n",
       " 'calNAQM']"
      ]
     },
     "execution_count": 206,
     "metadata": {},
     "output_type": "execute_result"
    }
   ],
   "source": [
    "list(df.columns)"
   ]
  },
  {
   "cell_type": "code",
   "execution_count": 50,
   "metadata": {},
   "outputs": [
    {
     "name": "stdout",
     "output_type": "stream",
     "text": [
      "4 - 1\n",
      "5 - 1\n",
      "6 - 1\n",
      "7 - 1\n",
      "8 - 1\n",
      "9 - 1\n",
      "10 - 1\n",
      "11 - 1\n",
      "12 - 1\n",
      "15 - 1\n",
      "18 - 1\n",
      "22 - 1\n",
      "23 - 1\n",
      "24 - 1\n",
      "25 - 1\n",
      "26 - 1\n",
      "27 - 1\n",
      "28 - 1\n",
      "29 - 1\n",
      "30 - 1\n",
      "31 - 1\n",
      "32 - 1\n",
      "32 - 2\n",
      "32 - 3\n",
      "2019-06-01 00:00:00+00:00\n",
      "32 complete df len = 304\n",
      "33 - 1\n",
      "34 - 1\n",
      "35 - 1\n",
      "35 - 2\n",
      "35 - 3\n",
      "2019-09-01 00:00:00+00:00\n",
      "35 complete df len = 304\n",
      "36 - 1\n",
      "37 - 1\n",
      "38 - 1\n",
      "39 - 1\n",
      "40 - 1\n",
      "40 - 2\n",
      "40 - 3\n",
      "2020-02-01 00:00:00+00:00\n",
      "40 complete df len = 304\n",
      "41 - 1\n",
      "43 - 1\n",
      "44 - 1\n",
      "45 - 1\n",
      "46 - 1\n",
      "46 - 2\n",
      "46 - 3\n",
      "2020-08-01 00:00:00+00:00\n",
      "46 complete df len = 304\n",
      "47 - 1\n",
      "49 - 1\n"
     ]
    }
   ],
   "source": [
    "for idx in range(len(dates)):\n",
    "    f = c[idx] \n",
    "    co2 = pd.read_csv(f, parse_dates=True, index_col='startDateTime')\n",
    "    # Fail and pass columns are redundent, we will use the fails\n",
    "    drops = [col for col in list(co2.columns) if 'Pass' in col]\n",
    "    co2.drop(drops, axis='columns', inplace=True)\n",
    "    # drop columns with bad quality flags\n",
    "    x = len(co2)\n",
    "    co2 = co2.loc[co2.finalQF == 0] \n",
    "    if (x - len(co2)) / x > 0.8: continue\n",
    "    # now drop quality metric columns\n",
    "    qm = [col for col in list(co2.columns) if 'QM' in col]\n",
    "    qm = qm + [col for col in list(co2.columns) if 'QF' in col] + ['endDateTime']\n",
    "    co2.drop(qm, axis='columns', inplace=True)\n",
    "    #this following step should not be needed, but just in case\n",
    "    co2.dropna(inplace=True)\n",
    "    print(f'{idx} - 1')\n",
    "    \n",
    "    f = w[idx]\n",
    "    h2o = pd.read_csv(f, parse_dates=True, index_col='startDateTime')\n",
    "    # Fail and pass columns are redundent, we will use the fails\n",
    "    drops = [col for col in list(h2o.columns) if 'Pass' in col]\n",
    "    h2o.drop(drops, axis='columns', inplace=True)\n",
    "    # drop columns with bad quality flags\n",
    "    x = len(h2o)\n",
    "    h2o = h2o.loc[(h2o.VSWCFinalQF == 0) & (h2o.VSICFinalQF == 0)]\n",
    "    if (x - len(h2o)) / x > 0.8: continue\n",
    "    # now drop quality metric columns\n",
    "    qm = [col for col in list(h2o.columns) if 'QM' in col]\n",
    "    qm = qm + [col for col in list(h2o.columns) if 'QF' in col] + ['endDateTime']\n",
    "    h2o.drop(qm, axis='columns', inplace=True)\n",
    "    #this following step should not be needed, but just in case\n",
    "    h2o.dropna(inplace=True)\n",
    "    print(f'{idx} - 2')\n",
    "\n",
    "    f = t[idx]\n",
    "    soil_T = pd.read_csv(f, parse_dates=True, index_col='startDateTime')\n",
    "    # Fail and pass columns are redundent, we will use the fails\n",
    "    drops = [col for col in list(soil_T.columns) if 'Pass' in col]\n",
    "    soil_T.drop(drops, axis='columns', inplace=True)\n",
    "    # drop columns with bad quality flags\n",
    "    x = len(soil_T)\n",
    "    soil_T = soil_T.loc[soil_T.finalQF == 0]\n",
    "    if (x - len(soil_T)) / x > 0.8: continue\n",
    "    # now drop quality metric columns\n",
    "    qm = [col for col in list(soil_T.columns) if 'QM' in col]\n",
    "    qm = qm + [col for col in list(soil_T.columns) if 'QF' in col] + ['endDateTime']\n",
    "    soil_T.drop(qm, axis='columns', inplace=True)\n",
    "    #this following step should not be needed, but just in case\n",
    "    soil_T.dropna(inplace=True)\n",
    "    print(f'{idx} - 3')\n",
    "    \n",
    "    print(list(co2.index)[0])\n",
    "    co2 = co2.merge(h2o, left_index=True, right_index=True)\n",
    "    co2 = co2.merge(soil_T, left_index=True, right_index=True)\n",
    "    hourCO2 = co2.soilCO2concentrationMean.resample('1h').mean().dropna()\n",
    "    hourH2O = co2.VSWCMean.resample('1h').mean().dropna()\n",
    "    hourT = co2.soilTempMean.resample('1h').mean().dropna()\n",
    "    data = {'CO2' : hourCO2,\n",
    "            'H2O' : hourH2O,\n",
    "            'T'   : hourT}\n",
    "    hour = pd.concat(data, axis=1)\n",
    "    \n",
    "    if 'hourly' in globals():\n",
    "        pd.concat([hourly, hour])\n",
    "    else:\n",
    "        hourly = hour\n",
    "    print(f'{idx} complete df len = {len(hourly)}')"
   ]
  },
  {
   "cell_type": "code",
   "execution_count": 80,
   "metadata": {},
   "outputs": [
    {
     "data": {
      "image/png": "[encoded data removed]",
      "text/plain": [
       "<Figure size 432x288 with 2 Axes>"
      ]
     },
     "metadata": {
      "needs_background": "light"
     },
     "output_type": "display_data"
    }
   ],
   "source": [
    "fig, ax1 = plt.subplots()\n",
    "ax2 = ax1.twinx()\n",
    "\n",
    "ax1.scatter(hourCO2.index, hourCO2, c='k')\n",
    "ax2.scatter(hourH2O.index, hourH2O, c='g')\n",
    "fig.autofmt_xdate(rotation=45)"
   ]
  },
  {
   "cell_type": "code",
   "execution_count": 81,
   "metadata": {},
   "outputs": [
    {
     "data": {
      "image/png": "[encoded data removed]",
      "text/plain": [
       "<Figure size 432x288 with 2 Axes>"
      ]
     },
     "metadata": {
      "needs_background": "light"
     },
     "output_type": "display_data"
    }
   ],
   "source": [
    "fig, ax1 = plt.subplots()\n",
    "ax2 = ax1.twinx()\n",
    "\n",
    "ax1.scatter(hourCO2.index, hourCO2, c='k')\n",
    "ax2.scatter(hourT.index, hourT, c='r')\n",
    "fig.autofmt_xdate(rotation=45)"
   ]
  },
  {
   "cell_type": "code",
   "execution_count": 68,
   "metadata": {},
   "outputs": [
    {
     "data": {
      "text/plain": [
       "Text(0.5, 0, 'CO2 (ppm?)')"
      ]
     },
     "execution_count": 68,
     "metadata": {},
     "output_type": "execute_result"
    },
    {
     "data": {
      "image/png": "[encoded data removed]",
      "text/plain": [
       "<Figure size 432x288 with 1 Axes>"
      ]
     },
     "metadata": {
      "needs_background": "light"
     },
     "output_type": "display_data"
    }
   ],
   "source": [
    "\n",
    "fig = plt.figure()\n",
    "ax = plt.axes(projection='3d')\n",
    "\n",
    "x = hourT\n",
    "y = hourH2O\n",
    "z = hourCO2\n",
    "\n",
    "ax.scatter(x, y, z, c=z)\n",
    "\n",
    "ax.set_xlabel('T (C)')\n",
    "ax.set_ylabel('Volumetric SWC')\n",
    "ax.set_zlabel('CO2 (ppm?)')"
   ]
  },
  {
   "cell_type": "code",
   "execution_count": null,
   "metadata": {},
   "outputs": [],
   "source": [
    "for idx in range(len(dates)):\n",
    "    f = c[idx] \n",
    "    co2 = pd.read_csv(f, parse_dates=True, index_col='startDateTime')\n",
    "    # Fail and pass columns are redundent, we will use the fails\n",
    "    drops = [col for col in list(co2.columns) if 'Pass' in col]\n",
    "    co2.drop(drops, axis='columns', inplace=True)\n",
    "    # drop columns with bad quality flags\n",
    "    x = len(co2)\n",
    "    co2 = co2.loc[co2.finalQF == 0] \n",
    "    if (x - len(co2)) / x > 0.8: continue\n",
    "    # now drop quality metric columns\n",
    "    qm = [col for col in list(co2.columns) if 'QM' in col]\n",
    "    qm = qm + [col for col in list(co2.columns) if 'QF' in col] + ['endDateTime']\n",
    "    co2.drop(qm, axis='columns', inplace=True)\n",
    "    #this following step should not be needed, but just in case\n",
    "    co2.dropna(inplace=True)\n",
    "    print(f'{idx} - 1')\n",
    "    \n",
    "    f = w[idx]\n",
    "    h2o = pd.read_csv(f, parse_dates=True, index_col='startDateTime')\n",
    "    # Fail and pass columns are redundent, we will use the fails\n",
    "    drops = [col for col in list(h2o.columns) if 'Pass' in col]\n",
    "    h2o.drop(drops, axis='columns', inplace=True)\n",
    "    # drop columns with bad quality flags\n",
    "    x = len(h2o)\n",
    "    h2o = h2o.loc[(h2o.VSWCFinalQF == 0) & (h2o.VSICFinalQF == 0)]\n",
    "    if (x - len(h2o)) / x > 0.8: continue\n",
    "    # now drop quality metric columns\n",
    "    qm = [col for col in list(h2o.columns) if 'QM' in col]\n",
    "    qm = qm + [col for col in list(h2o.columns) if 'QF' in col] + ['endDateTime']\n",
    "    h2o.drop(qm, axis='columns', inplace=True)\n",
    "    #this following step should not be needed, but just in case\n",
    "    h2o.dropna(inplace=True)\n",
    "    print(f'{idx} - 2')\n",
    "\n",
    "    f = t[idx]\n",
    "    soil_T = pd.read_csv(f, parse_dates=True, index_col='startDateTime')\n",
    "    # Fail and pass columns are redundent, we will use the fails\n",
    "    drops = [col for col in list(soil_T.columns) if 'Pass' in col]\n",
    "    soil_T.drop(drops, axis='columns', inplace=True)\n",
    "    # drop columns with bad quality flags\n",
    "    x = len(soil_T)\n",
    "    soil_T = soil_T.loc[soil_T.finalQF == 0]\n",
    "    if (x - len(soil_T)) / x > 0.8: continue\n",
    "    # now drop quality metric columns\n",
    "    qm = [col for col in list(soil_T.columns) if 'QM' in col]\n",
    "    qm = qm + [col for col in list(soil_T.columns) if 'QF' in col] + ['endDateTime']\n",
    "    soil_T.drop(qm, axis='columns', inplace=True)\n",
    "    #this following step should not be needed, but just in case\n",
    "    soil_T.dropna(inplace=True)\n",
    "    print(f'{idx} - 3')\n",
    "    \n",
    "    print(list(co2.index)[0])\n",
    "    co2 = co2.merge(h2o, left_index=True, right_index=True)\n",
    "    co2 = co2.merge(soil_T, left_index=True, right_index=True)\n",
    "    hourCO2 = co2.soilCO2concentrationMean.resample('1h').mean().dropna()\n",
    "    hourH2O = co2.VSWCMean.resample('1h').mean().dropna()\n",
    "    hourT = co2.soilTempMean.resample('1h').mean().dropna()\n",
    "    data = {'CO2' : hourCO2,\n",
    "            'H2O' : hourH2O,\n",
    "            'T'   : hourT}\n",
    "    hour = pd.concat(data, axis=1)\n",
    "    \n",
    "    if 'hourly' in globals():\n",
    "        pd.concat([hourly, hour])\n",
    "    else:\n",
    "        hourly = hour\n",
    "    print(f'{idx} complete df len = {len(hourly)}')"
   ]
  }
 ],
 "metadata": {
  "kernelspec": {
   "display_name": "Python 3",
   "language": "python",
   "name": "python3"
  },
  "language_info": {
   "codemirror_mode": {
    "name": "ipython",
    "version": 3
   },
   "file_extension": ".py",
   "mimetype": "text/x-python",
   "name": "python",
   "nbconvert_exporter": "python",
   "pygments_lexer": "ipython3",
   "version": "3.8.6"
  }
 },
 "nbformat": 4,
 "nbformat_minor": 4
}
